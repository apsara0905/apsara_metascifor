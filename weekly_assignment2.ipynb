{
  "nbformat": 4,
  "nbformat_minor": 0,
  "metadata": {
    "colab": {
      "provenance": []
    },
    "kernelspec": {
      "name": "python3",
      "display_name": "Python 3"
    },
    "language_info": {
      "name": "python"
    }
  },
  "cells": [
    {
      "cell_type": "markdown",
      "source": [
        "# **Padding**"
      ],
      "metadata": {
        "id": "Mxs8HHN0ekkV"
      }
    },
    {
      "cell_type": "code",
      "execution_count": 2,
      "metadata": {
        "colab": {
          "base_uri": "https://localhost:8080/"
        },
        "id": "wbaDK110c5rF",
        "outputId": "faad73ca-6c9d-43f4-a93a-f13793b4f66a"
      },
      "outputs": [
        {
          "output_type": "stream",
          "name": "stdout",
          "text": [
            "'Hello     '\n",
            "'Hello-----'\n",
            "'     Hello'\n",
            "'-----Hello'\n",
            "'  Hello   '\n",
            "'--Hello---'\n",
            "00042\n"
          ]
        }
      ],
      "source": [
        "text = \"Hello\"\n",
        "\n",
        "#padding with spaces in left\n",
        "padded_left = text.ljust(10)\n",
        "print(f\"'{padded_left}'\")\n",
        "\n",
        "#padding with a custom character in left\n",
        "padded_left_custom = text.ljust(10, '-')\n",
        "print(f\"'{padded_left_custom}'\")\n",
        "\n",
        "# padding with spaces in right\n",
        "padded_right = text.rjust(10)\n",
        "print(f\"'{padded_right}'\")\n",
        "\n",
        "#padding with a custom character in right\n",
        "padded_right_custom = text.rjust(10, '-')\n",
        "print(f\"'{padded_right_custom}'\")\n",
        "\n",
        "#padding with spaces center\n",
        "padded_center = text.center(10)\n",
        "print(f\"'{padded_center}'\")\n",
        "\n",
        "#padding with a custom character center\n",
        "padded_center_custom = text.center(10, '-')\n",
        "print(f\"'{padded_center_custom}'\")\n",
        "\n",
        "# Pad with zeros left\n",
        "number = \"42\"\n",
        "padded_zeros = number.zfill(5)\n",
        "print(padded_zeros)"
      ]
    },
    {
      "cell_type": "markdown",
      "source": [
        "# **String Splitting**"
      ],
      "metadata": {
        "id": "iP6bD7sFehgs"
      }
    },
    {
      "cell_type": "code",
      "source": [
        "# Basic splitting with space as the delimiter\n",
        "text = \"Hello world, welcome to Python\"\n",
        "words = text.split()\n",
        "print(words)\n",
        "# Splitting with a specific delimiter\n",
        "text = \"apple,banana,cherry,date\"\n",
        "fruits = text.split(',')\n",
        "print(fruits)\n",
        "\n",
        "# Splitting with a specific delimiter and a maximum number of splits\n",
        "text = \"apple,banana,cherry,date\"\n",
        "fruits = text.split(',', 2)\n",
        "print(fruits)\n",
        "# Splitting with a delimiter that includes multiple characters\n",
        "text = \"one--two--three--four\"\n",
        "numbers = text.split('--')\n",
        "print(numbers)"
      ],
      "metadata": {
        "colab": {
          "base_uri": "https://localhost:8080/"
        },
        "id": "8k6ewhEffjqK",
        "outputId": "8a2e750a-7371-4759-8982-6fdb2776a894"
      },
      "execution_count": 3,
      "outputs": [
        {
          "output_type": "stream",
          "name": "stdout",
          "text": [
            "['Hello', 'world,', 'welcome', 'to', 'Python']\n",
            "['apple', 'banana', 'cherry', 'date']\n",
            "['apple', 'banana', 'cherry,date']\n",
            "['one', 'two', 'three', 'four']\n"
          ]
        }
      ]
    },
    {
      "cell_type": "markdown",
      "source": [
        "# **f string for string formatting**\n",
        "\n",
        "---\n",
        "\n"
      ],
      "metadata": {
        "id": "79w-bmjvgL5s"
      }
    },
    {
      "cell_type": "code",
      "source": [
        "name = \"Alice\"\n",
        "age = 30\n",
        "height = 5.678\n",
        "person = {\"city\": \"Wonderland\", \"occupation\": \"Explorer\"}\n",
        "def greet(name):\n",
        "    return f\"Hello, {name}!\"\n",
        "\n",
        "# Combine all elements in an f-string\n",
        "formatted_string = (\n",
        "# Calling a function\n",
        "    f\"{greet(name)}\\n\"\n",
        "\n",
        "# Embedding a variable\n",
        "    f\"Name: {name}\\n\"\n",
        "\n",
        "# Embedding an expression\n",
        "    f\"Age in 5 years: {age + 5}\\n\"\n",
        "\n",
        "# Formatting a number\n",
        "    f\"Height: {height:.2f} feet\\n\"\n",
        "\n",
        "# Using dictionary items\n",
        "    f\"City: {person['city']}\\n\"\n",
        "    f\"Occupation: {person['occupation']}\"\n",
        ")\n",
        "\n",
        "print(formatted_string)"
      ],
      "metadata": {
        "colab": {
          "base_uri": "https://localhost:8080/"
        },
        "id": "iKSqCQ9qjIT7",
        "outputId": "94b99ba3-2767-4b17-9578-9a393f24ce89"
      },
      "execution_count": 6,
      "outputs": [
        {
          "output_type": "stream",
          "name": "stdout",
          "text": [
            "Hello, Alice!\n",
            "Name: Alice\n",
            "Age in 5 years: 35\n",
            "Height: 5.68 feet\n",
            "City: Wonderland\n",
            "Occupation: Explorer\n"
          ]
        }
      ]
    },
    {
      "cell_type": "markdown",
      "source": [
        "# **Elliminating unneccesarry charecters of string**"
      ],
      "metadata": {
        "id": "MaDZyXOnkIto"
      }
    },
    {
      "cell_type": "code",
      "source": [
        "\n",
        "text = \"  you $ me \"\n",
        "cleaned_text = text.strip()\n",
        "cleaned_text = cleaned_text.replace('$', '')\n",
        "print(f\"'{cleaned_text}'\")"
      ],
      "metadata": {
        "colab": {
          "base_uri": "https://localhost:8080/"
        },
        "id": "u5NYNM9WlFjQ",
        "outputId": "41df424a-40b1-40fc-a4de-54847479e169"
      },
      "execution_count": 31,
      "outputs": [
        {
          "output_type": "stream",
          "name": "stdout",
          "text": [
            "'you  me'\n"
          ]
        }
      ]
    },
    {
      "cell_type": "markdown",
      "source": [
        "# **concatenate  string**"
      ],
      "metadata": {
        "id": "N1D2sMn5nWWN"
      }
    },
    {
      "cell_type": "code",
      "source": [
        "a = \"Hello\"\n",
        "b = \"world!\"\n",
        "\n",
        "concatenated_string = a + \" \" + b\n",
        "print(concatenated_string)"
      ],
      "metadata": {
        "colab": {
          "base_uri": "https://localhost:8080/"
        },
        "id": "8WpV1GNDno31",
        "outputId": "5714bb9e-33b0-4937-c6bb-2463f183d0d8"
      },
      "execution_count": 8,
      "outputs": [
        {
          "output_type": "stream",
          "name": "stdout",
          "text": [
            "Hello world!\n"
          ]
        }
      ]
    },
    {
      "cell_type": "markdown",
      "source": [
        "# **Regular expression for complex string handling**"
      ],
      "metadata": {
        "id": "XNXbnEDan2MZ"
      }
    },
    {
      "cell_type": "code",
      "source": [
        "import re\n",
        "string = \"That was a good day.\"\n",
        "pattern = r\"day\"\n",
        "match = re.search(pattern, string)\n",
        "if match:\n",
        "    print(\"Match found!\")\n",
        "else:\n",
        "    print(\"Match not found.\")"
      ],
      "metadata": {
        "colab": {
          "base_uri": "https://localhost:8080/"
        },
        "id": "qJkglKB6pGGV",
        "outputId": "fbd160a2-9ec8-439b-c6a5-d1e6a44df3a6"
      },
      "execution_count": 10,
      "outputs": [
        {
          "output_type": "stream",
          "name": "stdout",
          "text": [
            "Match found!\n"
          ]
        }
      ]
    },
    {
      "cell_type": "markdown",
      "source": [
        "# **Removing a string**"
      ],
      "metadata": {
        "id": "Bz5rnZIRpmvw"
      }
    },
    {
      "cell_type": "code",
      "source": [
        "\n",
        "original_string = \"Hello how are you apsara.\"\n",
        "string_to_remove = \"apsara\"\n",
        "new_string = original_string.replace(string_to_remove, \"\")\n",
        "print(new_string)"
      ],
      "metadata": {
        "colab": {
          "base_uri": "https://localhost:8080/"
        },
        "id": "gG1QoqaeqY9c",
        "outputId": "f9fdffca-a38f-46a8-d5da-4cccbc801cdd"
      },
      "execution_count": 16,
      "outputs": [
        {
          "output_type": "stream",
          "name": "stdout",
          "text": [
            "Hello how are you .\n"
          ]
        }
      ]
    },
    {
      "cell_type": "markdown",
      "source": [
        "# **Reversing a string**"
      ],
      "metadata": {
        "id": "i34cbILtrxFp"
      }
    },
    {
      "cell_type": "code",
      "source": [
        "original_string = \"Hello World\"\n",
        "reversed_string = original_string[::-1]\n",
        "print(reversed_string)"
      ],
      "metadata": {
        "colab": {
          "base_uri": "https://localhost:8080/"
        },
        "id": "KU71ASqwr-0k",
        "outputId": "82e91dc1-3785-4803-85b5-bbf493cf9e48"
      },
      "execution_count": 18,
      "outputs": [
        {
          "output_type": "stream",
          "name": "stdout",
          "text": [
            "dlroW olleH\n"
          ]
        }
      ]
    }
  ]
}