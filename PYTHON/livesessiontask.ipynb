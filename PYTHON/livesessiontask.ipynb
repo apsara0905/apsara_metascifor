{
  "nbformat": 4,
  "nbformat_minor": 0,
  "metadata": {
    "colab": {
      "provenance": []
    },
    "kernelspec": {
      "name": "python3",
      "display_name": "Python 3"
    },
    "language_info": {
      "name": "python"
    }
  },
  "cells": [
    {
      "cell_type": "code",
      "execution_count": 6,
      "metadata": {
        "id": "JJDufF5QEV8b"
      },
      "outputs": [],
      "source": [
        "class Bank:\n",
        "    def _init_(self, pin, initial_balance=0.0):\n",
        "        self._pin = pin\n",
        "        self.balance = initial_balance\n",
        "\n",
        "    def verify_pin(self, input_pin):\n",
        "        return self._pin == input_pin\n",
        "\n",
        "    def deposit(self, amount):\n",
        "        if amount > 0:\n",
        "            self.balance += amount\n",
        "            print(f\"${amount:.2f} deposited successfully.\")\n",
        "            print(f\"Existing balance: ${self.balance:.2f}\")\n",
        "        else:\n",
        "            print(\"Deposit amount must be positive.\")\n",
        "\n",
        "    def withdraw(self, amount):\n",
        "        if 0 < amount <= self.balance:\n",
        "            self.balance -= amount\n",
        "            print(f\"${amount:.2f} withdrawn successfully.\")\n",
        "            print(f\"Existing balance: ${self.balance:.2f}\")\n",
        "        else:\n",
        "            print(\"Insufficient balance or invalid amount.\")\n",
        "\n",
        "def main():\n",
        "    bank_account = Bank(pin=\"1234\", initial_balance=1000.0)\n",
        "\n",
        "    while True:\n",
        "        print(\"\\nATM Menu\\n1. Withdraw\\n2. Deposit\\n3. Exit\")\n",
        "        choice = input(\"Enter your choice: \")\n",
        "\n",
        "        if choice in ['1', '2']:\n",
        "            input_pin = input(\"Enter your ATM pin: \")\n",
        "            if not bank_account.verify_pin(input_pin):\n",
        "                print(\"Invalid pin.\")\n",
        "                continue\n",
        "\n",
        "            amount = float(input(\"Enter amount: \"))\n",
        "\n",
        "            if choice == '1':\n",
        "                bank_account.withdraw(amount)\n",
        "            elif choice == '2':\n",
        "                bank_account.deposit(amount)\n",
        "        elif choice == '3':\n",
        "            print(\"Thank you for using the ATM. Goodbye!\")\n",
        "            break\n",
        "        else:\n",
        "            print(\"Invalid choice. Please try again.\")\n",
        "\n",
        "\n",
        "\n",
        "\n",
        "\n",
        "\n"
      ]
    }
  ]
}