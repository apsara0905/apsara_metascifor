{
  "nbformat": 4,
  "nbformat_minor": 0,
  "metadata": {
    "colab": {
      "provenance": []
    },
    "kernelspec": {
      "name": "python3",
      "display_name": "Python 3"
    },
    "language_info": {
      "name": "python"
    }
  },
  "cells": [
    {
      "cell_type": "code",
      "execution_count": null,
      "metadata": {
        "id": "O6SxBxC9R2oE"
      },
      "outputs": [],
      "source": [
        ""
      ]
    },
    {
      "cell_type": "markdown",
      "source": [
        "Encapsulation is a core principle of object-oriented programming . It refers to the bundling of data (attributes) and methods (functions) that operate on the data into a single unit or class. By using encapsulation, we can control access to the internal state of an object and prevent unintended interference and misuse.\n",
        "\n",
        "**Private Attributes**:These are attributes that are not accessible directly from outside the class.In Python, private attributes are typically prefixed with a double underscore (__).\n",
        "\n",
        "**Public Methods**:These are methods that provide controlled access to the private attributes.Methods that allow getting or setting the values of private attributes are known as getters and setters, respectively.\n",
        "\n",
        "Benefits of Encapsulation are **Improved Maintainability**:Hiding the internal state of objects reduces dependencies and makes code easier to maintain.**Increased Security**:Sensitive data can be protected from unauthorized access and modification.**Simplified Interface**:Users of a class do not need to understand its inner workings to use it effectively.\n",
        "\n",
        "***Consider a real-life example of an employee's salary. The Employee class encapsulates the salary details. Direct access to the salary is restricted to ensure privacy and control over modifications.***"
      ],
      "metadata": {
        "id": "NLNPlgmYTaGa"
      }
    },
    {
      "cell_type": "code",
      "source": [
        "class Employee:\n",
        "    def _init_(self):\n",
        "        self.__salary = 0\n",
        "\n",
        "    def set_salary(self, salary):\n",
        "        self.__salary = salary\n",
        "\n",
        "    def get_salary(self):\n",
        "        return self.__salary\n",
        "\n",
        "e = Employee()\n",
        "e.set_salary(50000)\n",
        "print(f\"Employee Salary: {e.get_salary()}\")"
      ],
      "metadata": {
        "colab": {
          "base_uri": "https://localhost:8080/"
        },
        "id": "Xj4R7XGLUPdu",
        "outputId": "b6ec1cbd-1cdc-4676-8d27-7825a735721f"
      },
      "execution_count": 3,
      "outputs": [
        {
          "output_type": "stream",
          "name": "stdout",
          "text": [
            "Employee Salary: 50000\n"
          ]
        }
      ]
    }
  ]
}