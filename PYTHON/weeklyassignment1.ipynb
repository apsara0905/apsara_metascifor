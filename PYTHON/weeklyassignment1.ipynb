{
  "nbformat": 4,
  "nbformat_minor": 0,
  "metadata": {
    "colab": {
      "provenance": []
    },
    "kernelspec": {
      "name": "python3",
      "display_name": "Python 3"
    },
    "language_info": {
      "name": "python"
    }
  },
  "cells": [
    {
      "cell_type": "code",
      "execution_count": null,
      "metadata": {
        "colab": {
          "base_uri": "https://localhost:8080/"
        },
        "id": "BKf5_tKOGIFk",
        "outputId": "e3227bcc-4292-44f6-d6ec-be357251dd19"
      },
      "outputs": [
        {
          "output_type": "stream",
          "name": "stdout",
          "text": [
            "adbecfgh\n"
          ]
        }
      ],
      "source": [
        "def merge_alternately(word1, word2):\n",
        "    merged_list = []\n",
        "    i, j = 0, 0\n",
        "\n",
        "    while i < len(word1) and j < len(word2):\n",
        "        merged_list.append(word1[i])\n",
        "        merged_list.append(word2[j])\n",
        "        i += 1\n",
        "        j += 1\n",
        "\n",
        "    while i < len(word1):\n",
        "        merged_list.append(word1[i])\n",
        "        i += 1\n",
        "\n",
        "    while j < len(word2):\n",
        "        merged_list.append(word2[j])\n",
        "        j += 1\n",
        "    return ''.join(merged_list)\n",
        "word1 = \"abc\"\n",
        "word2 = \"defgh\"\n",
        "result = merge_alternately(word1, word2)\n",
        "print(result)"
      ]
    },
    {
      "cell_type": "markdown",
      "source": [
        "2nd question\n"
      ],
      "metadata": {
        "id": "v6DXWveaMq3z"
      }
    },
    {
      "cell_type": "code",
      "source": [
        "from collections import Counter\n",
        "\n",
        "def find_added_letter(s, t):\n",
        "    count_s = Counter(s)\n",
        "    count_t = Counter(t)\n",
        "    for char in count_t:\n",
        "        if count_t[char] > count_s[char]:\n",
        "            return char\n",
        "s = \"abcd\"\n",
        "t = \"abcde\"\n",
        "result = find_added_letter(s, t)\n",
        "print(result)"
      ],
      "metadata": {
        "colab": {
          "base_uri": "https://localhost:8080/"
        },
        "id": "GeLMxroqMwiv",
        "outputId": "b6d16b0a-563c-468d-a6d9-5ec41b9d585e"
      },
      "execution_count": null,
      "outputs": [
        {
          "output_type": "stream",
          "name": "stdout",
          "text": [
            "e\n"
          ]
        }
      ]
    },
    {
      "cell_type": "markdown",
      "source": [
        "3rd question"
      ],
      "metadata": {
        "id": "iXSB6f5SM9mS"
      }
    },
    {
      "cell_type": "code",
      "source": [
        "def find_needle_in_haystack(haystack, needle):\n",
        "    return haystack.find(needle)\n",
        "haystack = \"hello\"\n",
        "needle = \"ll\"\n",
        "result = find_needle_in_haystack(haystack, needle)\n",
        "print(result)"
      ],
      "metadata": {
        "colab": {
          "base_uri": "https://localhost:8080/"
        },
        "id": "Gd4f7jJkOnzb",
        "outputId": "2bb45afe-f2f9-4433-e93f-877677285028"
      },
      "execution_count": null,
      "outputs": [
        {
          "output_type": "stream",
          "name": "stdout",
          "text": [
            "2\n"
          ]
        }
      ]
    },
    {
      "cell_type": "markdown",
      "source": [
        "4th question"
      ],
      "metadata": {
        "id": "iZhZPiY-R2zW"
      }
    },
    {
      "cell_type": "code",
      "source": [
        "\n"
      ],
      "metadata": {
        "id": "2-YqJ1jjR5us"
      },
      "execution_count": null,
      "outputs": []
    },
    {
      "cell_type": "markdown",
      "source": [
        "5th question"
      ],
      "metadata": {
        "id": "ct8BV-M_WPhm"
      }
    },
    {
      "cell_type": "code",
      "source": [
        "def is_repeated_substring(s):\n",
        "    n = len(s)\n",
        "    for i in range(1, n // 2 + 1):\n",
        "        if n % i == 0:\n",
        "            substring = s[:i]\n",
        "            if substring * (n // i) == s:\n",
        "                return True\n",
        "    return False\n",
        "s = \"abcabcabc\"\n",
        "print(is_repeated_substring(s))"
      ],
      "metadata": {
        "colab": {
          "base_uri": "https://localhost:8080/"
        },
        "id": "nFsefy4cWSPO",
        "outputId": "da805ead-8114-4a03-d20c-c3ba8de67a80"
      },
      "execution_count": null,
      "outputs": [
        {
          "output_type": "stream",
          "name": "stdout",
          "text": [
            "True\n"
          ]
        }
      ]
    },
    {
      "cell_type": "markdown",
      "source": [
        "6th question"
      ],
      "metadata": {
        "id": "_dgHVQAUXajP"
      }
    },
    {
      "cell_type": "code",
      "source": [
        "def move_zeros(nums):\n",
        "    zero_count = 0\n",
        "    for num in nums:\n",
        "        if num == 0:\n",
        "            zero_count += 1\n",
        "    nums[:] = [num for num in nums if num != 0]\n",
        "    nums += [0] * zero_count\n",
        "nums = [0, 1, 0, 3, 12]\n",
        "move_zeros(nums)\n",
        "print(nums)"
      ],
      "metadata": {
        "colab": {
          "base_uri": "https://localhost:8080/"
        },
        "id": "5llOmpEFXdcx",
        "outputId": "dcf4d9b4-7249-45e2-b8f9-2637bbdffb96"
      },
      "execution_count": null,
      "outputs": [
        {
          "output_type": "stream",
          "name": "stdout",
          "text": [
            "[1, 3, 12, 0, 0]\n"
          ]
        }
      ]
    },
    {
      "cell_type": "markdown",
      "source": [
        "7th question"
      ],
      "metadata": {
        "id": "DqyrN4ogXrCM"
      }
    },
    {
      "cell_type": "code",
      "source": [
        "def plus_one(digits):\n",
        "    carry = 1\n",
        "    for i in range(len(digits) - 1, -1, -1):\n",
        "        digits[i] += carry\n",
        "        if digits[i] < 10:\n",
        "            carry = 0\n",
        "            break\n",
        "        else:\n",
        "            digits[i] = 0\n",
        "    if carry:\n",
        "        digits.insert(0, 1)\n",
        "    return digits\n",
        "digits = [1, 2, 3]\n",
        "result = plus_one(digits)\n",
        "print(result)"
      ],
      "metadata": {
        "colab": {
          "base_uri": "https://localhost:8080/"
        },
        "id": "CzCHYvPVXumU",
        "outputId": "ecbb692c-e1b7-4905-98ef-6f0b3a51e35e"
      },
      "execution_count": null,
      "outputs": [
        {
          "output_type": "stream",
          "name": "stdout",
          "text": [
            "[1, 2, 4]\n"
          ]
        }
      ]
    },
    {
      "cell_type": "markdown",
      "source": [
        "8th question\n"
      ],
      "metadata": {
        "id": "1vAOESlAYny8"
      }
    },
    {
      "cell_type": "code",
      "source": [
        "def signFunc(nums):\n",
        "    product = 1\n",
        "    for num in nums:\n",
        "        product *= num\n",
        "    if product > 0:\n",
        "        return 1\n",
        "    elif product < 0:\n",
        "        return -1\n",
        "    else:\n",
        "        return 0\n",
        "nums = [-1, -2, -3, -4]\n",
        "result = signFunc(nums)\n",
        "print(result)"
      ],
      "metadata": {
        "colab": {
          "base_uri": "https://localhost:8080/"
        },
        "id": "LuUTDMBQYrzs",
        "outputId": "f3f3c38a-d337-4aaa-be59-f2d3814fb653"
      },
      "execution_count": null,
      "outputs": [
        {
          "output_type": "stream",
          "name": "stdout",
          "text": [
            "1\n"
          ]
        }
      ]
    },
    {
      "cell_type": "markdown",
      "source": [
        "9th question"
      ],
      "metadata": {
        "id": "EkRkkW3qZnLd"
      }
    },
    {
      "cell_type": "code",
      "source": [
        "def can_form_arithmetic_progression(arr):\n",
        "    arr.sort()\n",
        "    diff = arr[1] - arr[0]\n",
        "    for i in range(2, len(arr)):\n",
        "        if arr[i] - arr[i - 1] != diff:\n",
        "            return False\n",
        "    return True\n",
        "arr = [3, 5, 1]\n",
        "result = can_form_arithmetic_progression(arr)\n",
        "print(result)"
      ],
      "metadata": {
        "colab": {
          "base_uri": "https://localhost:8080/"
        },
        "id": "wch-xD5nZq0w",
        "outputId": "85c9e38f-dd34-43c7-8d31-ef75dbc69386"
      },
      "execution_count": null,
      "outputs": [
        {
          "output_type": "stream",
          "name": "stdout",
          "text": [
            "True\n"
          ]
        }
      ]
    },
    {
      "cell_type": "markdown",
      "source": [
        "10th question"
      ],
      "metadata": {
        "id": "3b_wPBLsTX-o"
      }
    },
    {
      "cell_type": "code",
      "source": [
        "def isMonotonic(nums):\n",
        "    increasing = decreasing = True\n",
        "\n",
        "    for i in range(1, len(nums)):\n",
        "        if nums[i] < nums[i - 1]:\n",
        "            increasing = False\n",
        "        if nums[i] > nums[i - 1]:\n",
        "            decreasing = False\n",
        "\n",
        "    return increasing or decreasing\n",
        "nums = [1, 2, 2, 3]\n",
        "print(isMonotonic(nums))\n",
        "nums = [6, 5, 4, 4]\n",
        "print(isMonotonic(nums))\n",
        "nums = [1, 3, 2]\n",
        "print(isMonotonic(nums))"
      ],
      "metadata": {
        "colab": {
          "base_uri": "https://localhost:8080/"
        },
        "id": "KFu0cAqVTcKc",
        "outputId": "b91d6178-0cd7-4608-ed6d-543b25b92216"
      },
      "execution_count": 4,
      "outputs": [
        {
          "output_type": "stream",
          "name": "stdout",
          "text": [
            "True\n",
            "True\n",
            "False\n"
          ]
        }
      ]
    },
    {
      "cell_type": "markdown",
      "source": [
        "11th question"
      ],
      "metadata": {
        "id": "qoeoELsgULNf"
      }
    },
    {
      "cell_type": "code",
      "source": [
        "def romanToInt(s):\n",
        "    roman_values = {\n",
        "        'I': 1,\n",
        "        'V': 5,\n",
        "        'X': 10,\n",
        "        'L': 50,\n",
        "        'C': 100,\n",
        "        'D': 500,\n",
        "        'M': 1000\n",
        "    }\n",
        "\n",
        "    total = 0\n",
        "    prev_value = 0\n",
        "\n",
        "    for char in s:\n",
        "        current_value = roman_values[char]\n",
        "        if prev_value < current_value:\n",
        "            total += current_value - 2 * prev_value\n",
        "        else:\n",
        "            total += current_value\n",
        "        prev_value = current_value\n",
        "    return total\n",
        "print(romanToInt('III'))\n",
        "print(romanToInt('IV'))\n",
        "print(romanToInt('IX'))\n",
        "print(romanToInt('LVIII'))\n",
        "print(romanToInt('MCMXCIV'))"
      ],
      "metadata": {
        "colab": {
          "base_uri": "https://localhost:8080/"
        },
        "id": "7t9ydkzJUN85",
        "outputId": "9f27c2ff-9993-4331-ad78-7ff1ab7edbd3"
      },
      "execution_count": 6,
      "outputs": [
        {
          "output_type": "stream",
          "name": "stdout",
          "text": [
            "3\n",
            "4\n",
            "9\n",
            "58\n",
            "1994\n"
          ]
        }
      ]
    }
  ]
}