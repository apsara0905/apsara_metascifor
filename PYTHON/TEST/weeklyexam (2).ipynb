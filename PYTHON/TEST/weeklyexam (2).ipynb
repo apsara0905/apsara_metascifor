{
  "nbformat": 4,
  "nbformat_minor": 0,
  "metadata": {
    "colab": {
      "provenance": []
    },
    "kernelspec": {
      "name": "python3",
      "display_name": "Python 3"
    },
    "language_info": {
      "name": "python"
    }
  },
  "cells": [
    {
      "cell_type": "code",
      "execution_count": null,
      "metadata": {
        "id": "uPbsorEv6ONX"
      },
      "outputs": [],
      "source": []
    },
    {
      "cell_type": "markdown",
      "source": [
        "**FIRST ANSWER**\n",
        "\n",
        "Encapsulation is the bundling of data and methods within a class and restricting direct access to the data from outside the class.it will enhance the data security.\n",
        "eg:we protect our spex in a box and if want to get the spex we have to open the\n",
        "   box. or\n",
        "   capsules are protected using a cover cotting to protect the medicine content inside it"
      ],
      "metadata": {
        "id": "5z0Kz3gc6Pnn"
      }
    },
    {
      "cell_type": "code",
      "source": [
        "class car:\n",
        "  def _init_(self,brand,model,year):\n",
        "    self.__brand = brand\n",
        "    self.model = model\n",
        "    self.year = year\n",
        "\n",
        "  def get_brand(self):\n",
        "    return self.__brand\n",
        "  def accelerate(self):\n",
        "    print(f\"the {self.model} is accelerating\")\n",
        "\n",
        "my_car = car(\"BMW\", \"model X3\", 2020)\n",
        "print(my_car.model)\n",
        "print(my_car.get_brand())"
      ],
      "metadata": {
        "colab": {
          "base_uri": "https://localhost:8080/",
          "height": 211
        },
        "id": "iWG04dfpMJ70",
        "outputId": "963fb992-de89-429d-f3d5-cc58252724fe"
      },
      "execution_count": null,
      "outputs": [
        {
          "output_type": "error",
          "ename": "TypeError",
          "evalue": "car() takes no arguments",
          "traceback": [
            "\u001b[0;31m---------------------------------------------------------------------------\u001b[0m",
            "\u001b[0;31mTypeError\u001b[0m                                 Traceback (most recent call last)",
            "\u001b[0;32m<ipython-input-28-1f96257a4bfd>\u001b[0m in \u001b[0;36m<cell line: 12>\u001b[0;34m()\u001b[0m\n\u001b[1;32m     10\u001b[0m     \u001b[0mprint\u001b[0m\u001b[0;34m(\u001b[0m\u001b[0;34mf\"the {self.model} is accelerating\"\u001b[0m\u001b[0;34m)\u001b[0m\u001b[0;34m\u001b[0m\u001b[0;34m\u001b[0m\u001b[0m\n\u001b[1;32m     11\u001b[0m \u001b[0;34m\u001b[0m\u001b[0m\n\u001b[0;32m---> 12\u001b[0;31m \u001b[0mmy_car\u001b[0m \u001b[0;34m=\u001b[0m \u001b[0mcar\u001b[0m\u001b[0;34m(\u001b[0m\u001b[0;34m\"BMW\"\u001b[0m\u001b[0;34m,\u001b[0m \u001b[0;34m\"model X3\"\u001b[0m\u001b[0;34m,\u001b[0m \u001b[0;36m2020\u001b[0m\u001b[0;34m)\u001b[0m\u001b[0;34m\u001b[0m\u001b[0;34m\u001b[0m\u001b[0m\n\u001b[0m\u001b[1;32m     13\u001b[0m \u001b[0mprint\u001b[0m\u001b[0;34m(\u001b[0m\u001b[0mmy_car\u001b[0m\u001b[0;34m.\u001b[0m\u001b[0mmodel\u001b[0m\u001b[0;34m)\u001b[0m\u001b[0;34m\u001b[0m\u001b[0;34m\u001b[0m\u001b[0m\n\u001b[1;32m     14\u001b[0m \u001b[0mprint\u001b[0m\u001b[0;34m(\u001b[0m\u001b[0mmy_car\u001b[0m\u001b[0;34m.\u001b[0m\u001b[0mget_brand\u001b[0m\u001b[0;34m(\u001b[0m\u001b[0;34m)\u001b[0m\u001b[0;34m)\u001b[0m\u001b[0;34m\u001b[0m\u001b[0;34m\u001b[0m\u001b[0m\n",
            "\u001b[0;31mTypeError\u001b[0m: car() takes no arguments"
          ]
        }
      ]
    },
    {
      "cell_type": "markdown",
      "source": [
        "**2nd answer**\n",
        "\n",
        "polymorphism means having many forms.it is the ability of a single function or method to work with differnt types of objects allowing for more flexible and reusablecode.\n",
        "eg 5+1=6,\n",
        "        and we have 'abc'+'cde'.\n",
        "        \n",
        "        \n",
        "         in the two programs '+' is common but in the 1st program it is adding the numbers and in the second it is concattinating 2 string.\n"
      ],
      "metadata": {
        "id": "TR-5ISbp-STc"
      }
    },
    {
      "cell_type": "code",
      "source": [
        "class Animal:\n",
        "    def speak(self):\n",
        "        pass\n",
        "\n",
        "class Dog(Animal):\n",
        "    def speak(self):\n",
        "        return \"Bark\"\n",
        "\n",
        "class Cat(Animal):\n",
        "    def speak(self):\n",
        "        return \"Meow\"\n",
        "\n",
        "def make_animal_speak(animal):\n",
        "    print(animal.speak())\n",
        "\n",
        "dog = Dog()\n",
        "cat = Cat()\n",
        "make_animal_speak(dog)\n",
        "make_animal_speak(cat)"
      ],
      "metadata": {
        "colab": {
          "base_uri": "https://localhost:8080/"
        },
        "id": "yhM0skYs_rfW",
        "outputId": "f5b84ec4-0e12-4855-9d92-857daf904d8a"
      },
      "execution_count": null,
      "outputs": [
        {
          "output_type": "stream",
          "name": "stdout",
          "text": [
            "Bark\n",
            "Meow\n"
          ]
        }
      ]
    },
    {
      "cell_type": "markdown",
      "source": [
        "**third answer**\n",
        "\n",
        " when a new class inherits attributes and methods from only one parent class is single level inheritence.\n"
      ],
      "metadata": {
        "id": "6nMUI2wJ_3Ev"
      }
    },
    {
      "cell_type": "code",
      "source": [
        "class Animal:\n",
        "    def sound(self):\n",
        "        return \"Animal makes a sound\"\n",
        "\n",
        "class Dog(Animal):\n",
        "    def sound(self):\n",
        "        return \"Dog barks\"\n",
        "\n",
        "my_dog = Dog()\n",
        "\n",
        "print(my_dog.sound())"
      ],
      "metadata": {
        "colab": {
          "base_uri": "https://localhost:8080/"
        },
        "id": "ikpF82oBAh_F",
        "outputId": "438721d7-362a-4acd-b2b2-23ef66512549"
      },
      "execution_count": null,
      "outputs": [
        {
          "output_type": "stream",
          "name": "stdout",
          "text": [
            "Dog barks\n"
          ]
        }
      ]
    },
    {
      "cell_type": "markdown",
      "source": [
        "**fourth answer**\n",
        "\n",
        " multiple inheritence is when a class inherits attributes and method from more than one parent class."
      ],
      "metadata": {
        "id": "9RvqbL48BDS4"
      }
    },
    {
      "cell_type": "code",
      "source": [
        "class Father:\n",
        "    def eye(self):\n",
        "        return \"She got father's eyes\"\n",
        "\n",
        "class Mother:\n",
        "    def hair(self):\n",
        "        return \"She got mother's hair\"\n",
        "\n",
        "class Child(Father, Mother):\n",
        "    pass\n",
        "\n",
        "my_child = Child()\n",
        "print(my_child.eye())\n",
        "print(my_child.hair())"
      ],
      "metadata": {
        "colab": {
          "base_uri": "https://localhost:8080/"
        },
        "id": "7XKk8XPGBcqn",
        "outputId": "b33ccde4-0d59-406b-8b2f-76eec59c30e5"
      },
      "execution_count": null,
      "outputs": [
        {
          "output_type": "stream",
          "name": "stdout",
          "text": [
            "She got father's eyes\n",
            "She got mother's hair\n"
          ]
        }
      ]
    },
    {
      "cell_type": "markdown",
      "source": [
        " **fifth answer**\n",
        "\n",
        " multilevel inheritence is when a subclass inherits from a superclass and then another subclass from that subclass,forming a hirrachical chain of inheritence."
      ],
      "metadata": {
        "id": "bCJEFYsACLCm"
      }
    },
    {
      "cell_type": "code",
      "source": [
        "class Animal:\n",
        "    def speak(self):\n",
        "        return \"Animal speaks\"\n",
        "\n",
        "class Dog(Animal):\n",
        "    def bark(self):\n",
        "        return \"Dog barks\"\n",
        "\n",
        "class pug(Dog):\n",
        "    def color(self):\n",
        "        return \"pug is usually golden\"\n",
        "\n",
        "my_pug = pug()\n",
        "print(my_pug.speak())\n",
        "print(my_pug.bark())\n",
        "print(my_pug.color())"
      ],
      "metadata": {
        "colab": {
          "base_uri": "https://localhost:8080/"
        },
        "id": "ZlbYFNe4CqPq",
        "outputId": "7b3205d2-cc0c-4290-fd0f-2e956170af5e"
      },
      "execution_count": null,
      "outputs": [
        {
          "output_type": "stream",
          "name": "stdout",
          "text": [
            "Animal speaks\n",
            "Dog barks\n",
            "pug is usually golden\n"
          ]
        }
      ]
    },
    {
      "cell_type": "markdown",
      "source": [
        "**sixth answer**\n",
        "\n",
        "conditional statements are used to apply some conditions on the code.it allows to execute certain parts of the code only if specific conditions met"
      ],
      "metadata": {
        "id": "SLV76k-ADYmw"
      }
    },
    {
      "cell_type": "code",
      "source": [
        "age = 18\n",
        "\n",
        "if age < 18:\n",
        "    print(\"You are a minor.\")\n",
        "elif age == 18:\n",
        "    print(\"You are exactly 18 years old.\")\n",
        "else:\n",
        "    print(\"You are an adult.\")"
      ],
      "metadata": {
        "colab": {
          "base_uri": "https://localhost:8080/"
        },
        "id": "g6lsAc2AD6Ew",
        "outputId": "a012ced9-ed2e-41e8-94f9-8d3c14bbdb38"
      },
      "execution_count": null,
      "outputs": [
        {
          "output_type": "stream",
          "name": "stdout",
          "text": [
            "You are exactly 18 years old.\n"
          ]
        }
      ]
    },
    {
      "cell_type": "markdown",
      "source": [
        "**seventh answer**\n",
        "\n",
        " decision makeing statements are allmost similar to conditional statement in which is focused on making decisions based on certain conditions."
      ],
      "metadata": {
        "id": "Uw2oV6JnELeS"
      }
    },
    {
      "cell_type": "code",
      "source": [
        "score = 85\n",
        "\n",
        "if score >= 90:\n",
        "    print(\"Grade: A\")\n",
        "elif score >= 80:\n",
        "    print(\"Grade: B\")\n",
        "elif score >= 70:\n",
        "    print(\"Grade: C\")\n",
        "else:\n",
        "    print(\"Grade: D\")"
      ],
      "metadata": {
        "colab": {
          "base_uri": "https://localhost:8080/"
        },
        "id": "U7ImThTfGG7U",
        "outputId": "5776cbc0-111a-4c64-c2f1-e4192ee74bd4"
      },
      "execution_count": null,
      "outputs": [
        {
          "output_type": "stream",
          "name": "stdout",
          "text": [
            "Grade: B\n"
          ]
        }
      ]
    },
    {
      "cell_type": "markdown",
      "source": [
        "**8th question answer**\n",
        "\n"
      ],
      "metadata": {
        "id": "0UMejSaAGkDi"
      }
    },
    {
      "cell_type": "code",
      "source": [
        "def factorial(n):\n",
        "    result = 1\n",
        "    for i in range(1, n + 1):\n",
        "        result *= i\n",
        "    return result\n",
        "\n",
        "number = int(input(\"Enter a number: \"))\n",
        "result = factorial(number)\n",
        "print(\"Factorial of\", number, \"is\", result)"
      ],
      "metadata": {
        "colab": {
          "base_uri": "https://localhost:8080/"
        },
        "id": "VMqMuz5tGtWZ",
        "outputId": "50e58b9a-7600-47da-b477-b2df2df3ac9f"
      },
      "execution_count": null,
      "outputs": [
        {
          "output_type": "stream",
          "name": "stdout",
          "text": [
            "Enter a number: 5\n",
            "Factorial of 5 is 120\n"
          ]
        }
      ]
    },
    {
      "cell_type": "markdown",
      "source": [
        "**9th answer**\n",
        "\n",
        "functions are reusable blocks of code that performs specific tasks."
      ],
      "metadata": {
        "id": "yII1nmDUG0qk"
      }
    },
    {
      "cell_type": "code",
      "source": [
        "def greet(name):\n",
        "    print(\"Hello,\", name)\n",
        "\n",
        "greet(\"apsara\")"
      ],
      "metadata": {
        "colab": {
          "base_uri": "https://localhost:8080/"
        },
        "id": "v-tQs-K4Huxh",
        "outputId": "ed7ecfab-38e3-40f4-f9cc-87c7a2f1ebd5"
      },
      "execution_count": null,
      "outputs": [
        {
          "output_type": "stream",
          "name": "stdout",
          "text": [
            "Hello, apsara\n"
          ]
        }
      ]
    },
    {
      "cell_type": "markdown",
      "source": [
        "**10th answer**\n",
        "\n",
        "There are 4 pillars in python. they are polymorphism,encapsulation,inheritence,abstraction."
      ],
      "metadata": {
        "id": "p3HLt9zrH6Xo"
      }
    }
  ]
}