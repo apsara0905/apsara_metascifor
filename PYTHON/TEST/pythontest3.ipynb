{
 "cells": [
  {
   "cell_type": "code",
   "execution_count": null,
   "id": "0a402b75",
   "metadata": {},
   "outputs": [],
   "source": [
    "#first"
   ]
  },
  {
   "cell_type": "code",
   "execution_count": 1,
   "id": "aa7e07c7",
   "metadata": {},
   "outputs": [
    {
     "name": "stdout",
     "output_type": "stream",
     "text": [
      "Dog barks\n",
      "Animal speaks\n",
      "Dog barks\n",
      "pug is usually golden\n",
      "shirts from father\n",
      "saree from mother\n",
      "pants from Child\n"
     ]
    }
   ],
   "source": [
    "#single level inheritance\n",
    "class Animal:\n",
    "    def sound(self):\n",
    "        return \"Animal makes a sound\"\n",
    "\n",
    "class Dog(Animal):\n",
    "    def sound(self):\n",
    "        return \"Dog barks\"\n",
    "\n",
    "my_dog = Dog()\n",
    "\n",
    "print(my_dog.sound())\n",
    "\n",
    "#multilevel inheritence\n",
    "\n",
    "class Animal:\n",
    "    def speak(self):\n",
    "        return \"Animal speaks\"\n",
    "\n",
    "class Dog(Animal):\n",
    "    def bark(self):\n",
    "        return \"Dog barks\"\n",
    "\n",
    "class pug(Dog):\n",
    "    def color(self):\n",
    "        return \"pug is usually golden\"\n",
    "\n",
    "my_pug = pug()\n",
    "print(my_pug.speak()) \n",
    "print(my_pug.bark())  \n",
    "print(my_pug.color())\n",
    "\n",
    "#multiple inheritence\n",
    "\n",
    "class father:\n",
    "    def shirt(self):\n",
    "        print(\"shirts from father\")\n",
    "\n",
    "class mother:\n",
    "    def saree(self):\n",
    "        print(\"saree from mother\")\n",
    "\n",
    "class Child(father, mother):\n",
    "    def pant(self):\n",
    "        print(\"pants from Child\")\n",
    "\n",
    "child_instance = Child()\n",
    "child_instance.shirt() \n",
    "child_instance.saree()  \n",
    "child_instance.pant() "
   ]
  },
  {
   "cell_type": "code",
   "execution_count": null,
   "id": "19487ebc",
   "metadata": {},
   "outputs": [],
   "source": [
    "#second"
   ]
  },
  {
   "cell_type": "code",
   "execution_count": 2,
   "id": "cb70990d",
   "metadata": {},
   "outputs": [
    {
     "name": "stdout",
     "output_type": "stream",
     "text": [
      "Result with two operands: 5\n",
      "Result with three operands: 10\n"
     ]
    }
   ],
   "source": [
    "class Calculator:\n",
    "    def add(self, a, b, c=None):\n",
    "        if c is not None:\n",
    "            return a + b + c\n",
    "        else:\n",
    "            return a + b\n",
    "\n",
    "calc = Calculator()\n",
    "result1 = calc.add(2, 3)\n",
    "print(f\"Result with two operands: {result1}\") \n",
    "result2 = calc.add(1, 4, 5)\n",
    "print(f\"Result with three operands: {result2}\")  "
   ]
  },
  {
   "cell_type": "code",
   "execution_count": null,
   "id": "b06aeace",
   "metadata": {},
   "outputs": [],
   "source": [
    "#third "
   ]
  },
  {
   "cell_type": "code",
   "execution_count": 3,
   "id": "0a7d902c",
   "metadata": {},
   "outputs": [
    {
     "name": "stdout",
     "output_type": "stream",
     "text": [
      "Dog barks\n",
      "Cat meows\n"
     ]
    }
   ],
   "source": [
    "class Animal:\n",
    "    def speak(self):\n",
    "        print(\"Animal makes a sound\")\n",
    "class Dog(Animal):\n",
    "    def speak(self):\n",
    "        print(\"Dog barks\")\n",
    "class Cat(Animal):\n",
    "    def speak(self):\n",
    "        print(\"Cat meows\")\n",
    "dog = Dog()\n",
    "cat = Cat()\n",
    "\n",
    "dog.speak()  \n",
    "cat.speak() "
   ]
  },
  {
   "cell_type": "code",
   "execution_count": null,
   "id": "9c4a8d89",
   "metadata": {},
   "outputs": [],
   "source": []
  }
 ],
 "metadata": {
  "kernelspec": {
   "display_name": "Python 3",
   "language": "python",
   "name": "python3"
  },
  "language_info": {
   "codemirror_mode": {
    "name": "ipython",
    "version": 3
   },
   "file_extension": ".py",
   "mimetype": "text/x-python",
   "name": "python",
   "nbconvert_exporter": "python",
   "pygments_lexer": "ipython3",
   "version": "3.11.5"
  }
 },
 "nbformat": 4,
 "nbformat_minor": 5
}
